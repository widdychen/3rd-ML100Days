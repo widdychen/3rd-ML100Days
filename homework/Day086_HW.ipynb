{
 "cells": [
  {
   "cell_type": "markdown",
   "metadata": {},
   "source": [
    "## Work\n",
    "1. 試比較 save_best_only 與否的差異\n",
    "2. 請僅存入將 save_weights_only 設定為 True, 並嘗試 reset ipynb 並將模型與權重重新建回並預測 x_test"
   ]
  },
  {
   "cell_type": "code",
   "execution_count": 1,
   "metadata": {},
   "outputs": [
    {
     "name": "stderr",
     "output_type": "stream",
     "text": [
      "Using TensorFlow backend.\n"
     ]
    },
    {
     "data": {
      "text/plain": [
       "<Response [200]>"
      ]
     },
     "execution_count": 1,
     "metadata": {},
     "output_type": "execute_result"
    }
   ],
   "source": [
    "import os\n",
    "import keras"
   ]
  },
  {
   "cell_type": "code",
   "execution_count": 2,
   "metadata": {},
   "outputs": [],
   "source": [
    "train, test = keras.datasets.cifar10.load_data()"
   ]
  },
  {
   "cell_type": "code",
   "execution_count": 3,
   "metadata": {},
   "outputs": [],
   "source": [
    "## 資料前處理\n",
    "def preproc_x(x, flatten=True):\n",
    "    x = x / 255.\n",
    "    if flatten:\n",
    "        x = x.reshape((len(x), -1))\n",
    "    return x\n",
    "\n",
    "def preproc_y(y, num_classes=10):\n",
    "    if y.shape[-1] == 1:\n",
    "        y = keras.utils.to_categorical(y, num_classes)\n",
    "    return y    "
   ]
  },
  {
   "cell_type": "code",
   "execution_count": 4,
   "metadata": {},
   "outputs": [],
   "source": [
    "x_train, y_train = train\n",
    "x_test, y_test = test\n",
    "\n",
    "# Preproc the inputs\n",
    "x_train = preproc_x(x_train)\n",
    "x_test = preproc_x(x_test)\n",
    "\n",
    "# Preprc the outputs\n",
    "y_train = preproc_y(y_train)\n",
    "y_test = preproc_y(y_test)"
   ]
  },
  {
   "cell_type": "code",
   "execution_count": 5,
   "metadata": {},
   "outputs": [],
   "source": [
    "from keras.layers import BatchNormalization\n",
    "\n",
    "\n",
    "def build_mlp(input_shape, output_units=10, num_neurons=[512, 256, 128]):\n",
    "    input_layer = keras.layers.Input(input_shape)\n",
    "    \n",
    "    for i, n_units in enumerate(num_neurons):\n",
    "        if i == 0:\n",
    "            x = keras.layers.Dense(units=n_units, \n",
    "                                   activation=\"relu\", \n",
    "                                   name=\"hidden_layer\"+str(i+1))(input_layer)\n",
    "            x = BatchNormalization()(x)\n",
    "        else:\n",
    "            x = keras.layers.Dense(units=n_units, \n",
    "                                   activation=\"relu\", \n",
    "                                   name=\"hidden_layer\"+str(i+1))(x)\n",
    "            x = BatchNormalization()(x)\n",
    "    \n",
    "    out = keras.layers.Dense(units=output_units, activation=\"softmax\", name=\"output\")(x)\n",
    "    \n",
    "    model = keras.models.Model(inputs=[input_layer], outputs=[out])\n",
    "    return model"
   ]
  },
  {
   "cell_type": "code",
   "execution_count": 6,
   "metadata": {},
   "outputs": [],
   "source": [
    "\"\"\"Code Here\n",
    "設定超參數\n",
    "\"\"\"\n",
    "LEARNING_RATE = 1e-3\n",
    "EPOCHS = 50\n",
    "BATCH_SIZE = 1024\n",
    "MOMENTUM = 0.95"
   ]
  },
  {
   "cell_type": "code",
   "execution_count": 8,
   "metadata": {},
   "outputs": [
    {
     "name": "stdout",
     "output_type": "stream",
     "text": [
      "Model: \"model_2\"\n",
      "_________________________________________________________________\n",
      "Layer (type)                 Output Shape              Param #   \n",
      "=================================================================\n",
      "input_2 (InputLayer)         (None, 3072)              0         \n",
      "_________________________________________________________________\n",
      "hidden_layer1 (Dense)        (None, 512)               1573376   \n",
      "_________________________________________________________________\n",
      "batch_normalization_4 (Batch (None, 512)               2048      \n",
      "_________________________________________________________________\n",
      "hidden_layer2 (Dense)        (None, 256)               131328    \n",
      "_________________________________________________________________\n",
      "batch_normalization_5 (Batch (None, 256)               1024      \n",
      "_________________________________________________________________\n",
      "hidden_layer3 (Dense)        (None, 128)               32896     \n",
      "_________________________________________________________________\n",
      "batch_normalization_6 (Batch (None, 128)               512       \n",
      "_________________________________________________________________\n",
      "output (Dense)               (None, 10)                1290      \n",
      "=================================================================\n",
      "Total params: 1,742,474\n",
      "Trainable params: 1,740,682\n",
      "Non-trainable params: 1,792\n",
      "_________________________________________________________________\n",
      "Train on 50000 samples, validate on 10000 samples\n",
      "Epoch 1/50\n",
      "50000/50000 [==============================] - 2s 34us/step - loss: 2.1986 - accuracy: 0.2740 - val_loss: 2.1198 - val_accuracy: 0.2537\n",
      "Epoch 2/50\n",
      "50000/50000 [==============================] - 1s 27us/step - loss: 1.7348 - accuracy: 0.3961 - val_loss: 1.9706 - val_accuracy: 0.2964\n",
      "Epoch 3/50\n",
      "50000/50000 [==============================] - 1s 28us/step - loss: 1.6087 - accuracy: 0.4377 - val_loss: 1.8196 - val_accuracy: 0.3700\n",
      "Epoch 4/50\n",
      "50000/50000 [==============================] - 1s 27us/step - loss: 1.5348 - accuracy: 0.4615 - val_loss: 1.7221 - val_accuracy: 0.3984\n",
      "Epoch 5/50\n",
      "50000/50000 [==============================] - 1s 27us/step - loss: 1.4799 - accuracy: 0.4798 - val_loss: 1.6493 - val_accuracy: 0.4161\n",
      "Epoch 6/50\n",
      "50000/50000 [==============================] - 1s 27us/step - loss: 1.4355 - accuracy: 0.4973 - val_loss: 1.5953 - val_accuracy: 0.4351\n",
      "Epoch 7/50\n",
      "50000/50000 [==============================] - 1s 29us/step - loss: 1.3959 - accuracy: 0.5121 - val_loss: 1.5610 - val_accuracy: 0.4465\n",
      "Epoch 8/50\n",
      "50000/50000 [==============================] - 1s 28us/step - loss: 1.3595 - accuracy: 0.5255 - val_loss: 1.5318 - val_accuracy: 0.4539\n",
      "Epoch 9/50\n",
      "50000/50000 [==============================] - 1s 28us/step - loss: 1.3292 - accuracy: 0.5367 - val_loss: 1.5178 - val_accuracy: 0.4608\n",
      "Epoch 10/50\n",
      "50000/50000 [==============================] - 1s 27us/step - loss: 1.2976 - accuracy: 0.5473 - val_loss: 1.4955 - val_accuracy: 0.4676\n",
      "Epoch 11/50\n",
      "50000/50000 [==============================] - 1s 28us/step - loss: 1.2709 - accuracy: 0.5571 - val_loss: 1.4893 - val_accuracy: 0.4679\n",
      "Epoch 12/50\n",
      "50000/50000 [==============================] - 1s 28us/step - loss: 1.2424 - accuracy: 0.5684 - val_loss: 1.4770 - val_accuracy: 0.4757\n",
      "Epoch 13/50\n",
      "50000/50000 [==============================] - 1s 27us/step - loss: 1.2165 - accuracy: 0.5779 - val_loss: 1.4783 - val_accuracy: 0.4805\n",
      "Epoch 14/50\n",
      "50000/50000 [==============================] - 1s 28us/step - loss: 1.1927 - accuracy: 0.5873 - val_loss: 1.4747 - val_accuracy: 0.4795\n",
      "Epoch 15/50\n",
      "50000/50000 [==============================] - 1s 27us/step - loss: 1.1657 - accuracy: 0.5970 - val_loss: 1.4679 - val_accuracy: 0.4835\n",
      "Epoch 16/50\n",
      "50000/50000 [==============================] - 1s 28us/step - loss: 1.1465 - accuracy: 0.6042 - val_loss: 1.4654 - val_accuracy: 0.4819\n",
      "Epoch 17/50\n",
      "50000/50000 [==============================] - 1s 29us/step - loss: 1.1235 - accuracy: 0.6140 - val_loss: 1.4623 - val_accuracy: 0.4861\n",
      "Epoch 18/50\n",
      "50000/50000 [==============================] - 1s 28us/step - loss: 1.0998 - accuracy: 0.6240 - val_loss: 1.4775 - val_accuracy: 0.4855\n",
      "Epoch 19/50\n",
      "50000/50000 [==============================] - 1s 27us/step - loss: 1.0772 - accuracy: 0.6325 - val_loss: 1.4671 - val_accuracy: 0.4866\n",
      "Epoch 20/50\n",
      "50000/50000 [==============================] - 1s 27us/step - loss: 1.0571 - accuracy: 0.6415 - val_loss: 1.4567 - val_accuracy: 0.4871\n",
      "Epoch 21/50\n",
      "50000/50000 [==============================] - 1s 27us/step - loss: 1.0361 - accuracy: 0.6486 - val_loss: 1.4590 - val_accuracy: 0.4915\n",
      "Epoch 22/50\n",
      "50000/50000 [==============================] - 1s 27us/step - loss: 1.0152 - accuracy: 0.6570 - val_loss: 1.4740 - val_accuracy: 0.4862\n",
      "Epoch 23/50\n",
      "50000/50000 [==============================] - 1s 28us/step - loss: 0.9930 - accuracy: 0.6656 - val_loss: 1.4624 - val_accuracy: 0.4888\n",
      "Epoch 24/50\n",
      "50000/50000 [==============================] - 1s 27us/step - loss: 0.9747 - accuracy: 0.6727 - val_loss: 1.4642 - val_accuracy: 0.4935\n",
      "Epoch 25/50\n",
      "50000/50000 [==============================] - 1s 28us/step - loss: 0.9536 - accuracy: 0.6802 - val_loss: 1.4742 - val_accuracy: 0.4903\n",
      "Epoch 26/50\n",
      "50000/50000 [==============================] - 1s 28us/step - loss: 0.9336 - accuracy: 0.6885 - val_loss: 1.4773 - val_accuracy: 0.4916\n",
      "Epoch 27/50\n",
      "50000/50000 [==============================] - 1s 28us/step - loss: 0.9141 - accuracy: 0.6955 - val_loss: 1.4887 - val_accuracy: 0.4885\n",
      "Epoch 28/50\n",
      "50000/50000 [==============================] - 1s 27us/step - loss: 0.8940 - accuracy: 0.7033 - val_loss: 1.4808 - val_accuracy: 0.4939\n",
      "Epoch 29/50\n",
      "50000/50000 [==============================] - 1s 28us/step - loss: 0.8723 - accuracy: 0.7132 - val_loss: 1.4813 - val_accuracy: 0.4960\n",
      "Epoch 30/50\n",
      "50000/50000 [==============================] - 1s 27us/step - loss: 0.8538 - accuracy: 0.7198 - val_loss: 1.4964 - val_accuracy: 0.4922\n",
      "Epoch 31/50\n",
      "50000/50000 [==============================] - 1s 28us/step - loss: 0.8345 - accuracy: 0.7280 - val_loss: 1.5153 - val_accuracy: 0.4870\n",
      "Epoch 32/50\n",
      "50000/50000 [==============================] - 1s 28us/step - loss: 0.8152 - accuracy: 0.7348 - val_loss: 1.5083 - val_accuracy: 0.4902\n",
      "Epoch 33/50\n",
      "50000/50000 [==============================] - 1s 27us/step - loss: 0.7961 - accuracy: 0.7435 - val_loss: 1.5121 - val_accuracy: 0.4902\n",
      "Epoch 34/50\n",
      "50000/50000 [==============================] - 1s 28us/step - loss: 0.7755 - accuracy: 0.7509 - val_loss: 1.5165 - val_accuracy: 0.4919\n",
      "Epoch 35/50\n",
      "50000/50000 [==============================] - 1s 27us/step - loss: 0.7587 - accuracy: 0.7564 - val_loss: 1.5189 - val_accuracy: 0.4906\n",
      "Epoch 36/50\n",
      "50000/50000 [==============================] - 1s 28us/step - loss: 0.7387 - accuracy: 0.7644 - val_loss: 1.5229 - val_accuracy: 0.4928\n",
      "Epoch 37/50\n",
      "50000/50000 [==============================] - 1s 28us/step - loss: 0.7196 - accuracy: 0.7721 - val_loss: 1.5392 - val_accuracy: 0.4932\n",
      "Epoch 38/50\n",
      "50000/50000 [==============================] - 1s 28us/step - loss: 0.7024 - accuracy: 0.7778 - val_loss: 1.5654 - val_accuracy: 0.4893\n",
      "Epoch 39/50\n",
      "50000/50000 [==============================] - 1s 27us/step - loss: 0.6843 - accuracy: 0.7853 - val_loss: 1.5678 - val_accuracy: 0.4935\n",
      "Epoch 40/50\n",
      "50000/50000 [==============================] - 1s 27us/step - loss: 0.6663 - accuracy: 0.7938 - val_loss: 1.5781 - val_accuracy: 0.4886\n",
      "Epoch 41/50\n",
      "50000/50000 [==============================] - 1s 28us/step - loss: 0.6484 - accuracy: 0.8002 - val_loss: 1.5811 - val_accuracy: 0.4861\n",
      "Epoch 42/50\n",
      "50000/50000 [==============================] - 1s 27us/step - loss: 0.6295 - accuracy: 0.8078 - val_loss: 1.5985 - val_accuracy: 0.4880\n",
      "Epoch 43/50\n",
      "50000/50000 [==============================] - 1s 28us/step - loss: 0.6102 - accuracy: 0.8145 - val_loss: 1.6060 - val_accuracy: 0.4874\n",
      "Epoch 44/50\n",
      "50000/50000 [==============================] - 1s 28us/step - loss: 0.5962 - accuracy: 0.8192 - val_loss: 1.6153 - val_accuracy: 0.4854\n",
      "Epoch 45/50\n",
      "50000/50000 [==============================] - 1s 28us/step - loss: 0.5772 - accuracy: 0.8306 - val_loss: 1.6409 - val_accuracy: 0.4819\n",
      "Epoch 46/50\n"
     ]
    },
    {
     "name": "stdout",
     "output_type": "stream",
     "text": [
      "50000/50000 [==============================] - 1s 27us/step - loss: 0.5619 - accuracy: 0.8351 - val_loss: 1.6419 - val_accuracy: 0.4833\n",
      "Epoch 47/50\n",
      "50000/50000 [==============================] - 1s 28us/step - loss: 0.5444 - accuracy: 0.8423 - val_loss: 1.6554 - val_accuracy: 0.4746\n",
      "Epoch 48/50\n",
      "50000/50000 [==============================] - 1s 28us/step - loss: 0.5287 - accuracy: 0.8473 - val_loss: 1.6556 - val_accuracy: 0.4858\n",
      "Epoch 49/50\n",
      "50000/50000 [==============================] - 1s 28us/step - loss: 0.5124 - accuracy: 0.8554 - val_loss: 1.6949 - val_accuracy: 0.4801\n",
      "Epoch 50/50\n",
      "50000/50000 [==============================] - 1s 28us/step - loss: 0.4964 - accuracy: 0.8598 - val_loss: 1.6749 - val_accuracy: 0.4816\n",
      "10000/10000 [==============================] - 1s 66us/step\n"
     ]
    },
    {
     "data": {
      "image/png": "[encoded data removed]",
      "text/plain": [
       "<Figure size 432x288 with 1 Axes>"
      ]
     },
     "metadata": {
      "needs_background": "light"
     },
     "output_type": "display_data"
    },
    {
     "data": {
      "image/png": "[encoded data removed]",
      "text/plain": [
       "<Figure size 432x288 with 1 Axes>"
      ]
     },
     "metadata": {
      "needs_background": "light"
     },
     "output_type": "display_data"
    },
    {
     "name": "stdout",
     "output_type": "stream",
     "text": [
      "Model: \"model_3\"\n",
      "_________________________________________________________________\n",
      "Layer (type)                 Output Shape              Param #   \n",
      "=================================================================\n",
      "input_3 (InputLayer)         (None, 3072)              0         \n",
      "_________________________________________________________________\n",
      "hidden_layer1 (Dense)        (None, 512)               1573376   \n",
      "_________________________________________________________________\n",
      "batch_normalization_7 (Batch (None, 512)               2048      \n",
      "_________________________________________________________________\n",
      "hidden_layer2 (Dense)        (None, 256)               131328    \n",
      "_________________________________________________________________\n",
      "batch_normalization_8 (Batch (None, 256)               1024      \n",
      "_________________________________________________________________\n",
      "hidden_layer3 (Dense)        (None, 128)               32896     \n",
      "_________________________________________________________________\n",
      "batch_normalization_9 (Batch (None, 128)               512       \n",
      "_________________________________________________________________\n",
      "output (Dense)               (None, 10)                1290      \n",
      "=================================================================\n",
      "Total params: 1,742,474\n",
      "Trainable params: 1,740,682\n",
      "Non-trainable params: 1,792\n",
      "_________________________________________________________________\n",
      "Train on 50000 samples, validate on 10000 samples\n",
      "Epoch 1/50\n",
      "50000/50000 [==============================] - 2s 35us/step - loss: 2.2004 - accuracy: 0.2728 - val_loss: 2.0946 - val_accuracy: 0.2369\n",
      "Epoch 2/50\n",
      "50000/50000 [==============================] - 1s 28us/step - loss: 1.7461 - accuracy: 0.3903 - val_loss: 1.9515 - val_accuracy: 0.2893\n",
      "Epoch 3/50\n",
      "50000/50000 [==============================] - 1s 28us/step - loss: 1.6231 - accuracy: 0.4318 - val_loss: 1.8100 - val_accuracy: 0.3690\n",
      "Epoch 4/50\n",
      "50000/50000 [==============================] - 1s 28us/step - loss: 1.5457 - accuracy: 0.4579 - val_loss: 1.7333 - val_accuracy: 0.3898\n",
      "Epoch 5/50\n",
      "50000/50000 [==============================] - 1s 28us/step - loss: 1.4920 - accuracy: 0.4768 - val_loss: 1.6452 - val_accuracy: 0.4273\n",
      "Epoch 6/50\n",
      "50000/50000 [==============================] - 1s 28us/step - loss: 1.4441 - accuracy: 0.4946 - val_loss: 1.5904 - val_accuracy: 0.4424\n",
      "Epoch 7/50\n",
      "50000/50000 [==============================] - 1s 28us/step - loss: 1.4045 - accuracy: 0.5110 - val_loss: 1.5572 - val_accuracy: 0.4523\n",
      "Epoch 8/50\n",
      "50000/50000 [==============================] - 1s 28us/step - loss: 1.3680 - accuracy: 0.5216 - val_loss: 1.5254 - val_accuracy: 0.4615\n",
      "Epoch 9/50\n",
      "50000/50000 [==============================] - 1s 28us/step - loss: 1.3365 - accuracy: 0.5351 - val_loss: 1.5056 - val_accuracy: 0.4667\n",
      "Epoch 10/50\n",
      "50000/50000 [==============================] - 1s 27us/step - loss: 1.3051 - accuracy: 0.5454 - val_loss: 1.4977 - val_accuracy: 0.4689\n",
      "Epoch 11/50\n",
      "50000/50000 [==============================] - 1s 27us/step - loss: 1.2777 - accuracy: 0.5568 - val_loss: 1.4817 - val_accuracy: 0.4769\n",
      "Epoch 12/50\n",
      "50000/50000 [==============================] - 1s 28us/step - loss: 1.2510 - accuracy: 0.5680 - val_loss: 1.4740 - val_accuracy: 0.4776\n",
      "Epoch 13/50\n",
      "50000/50000 [==============================] - 1s 28us/step - loss: 1.2255 - accuracy: 0.5750 - val_loss: 1.4666 - val_accuracy: 0.4767\n",
      "Epoch 14/50\n",
      "50000/50000 [==============================] - 1s 28us/step - loss: 1.2010 - accuracy: 0.5843 - val_loss: 1.4701 - val_accuracy: 0.4776\n",
      "Epoch 15/50\n",
      "50000/50000 [==============================] - 1s 27us/step - loss: 1.1761 - accuracy: 0.5957 - val_loss: 1.4569 - val_accuracy: 0.4863\n",
      "Epoch 16/50\n",
      "50000/50000 [==============================] - 1s 28us/step - loss: 1.1539 - accuracy: 0.6035 - val_loss: 1.4845 - val_accuracy: 0.4727\n",
      "Epoch 17/50\n",
      "50000/50000 [==============================] - 1s 29us/step - loss: 1.1305 - accuracy: 0.6120 - val_loss: 1.4622 - val_accuracy: 0.4861\n",
      "Epoch 18/50\n",
      "50000/50000 [==============================] - 1s 28us/step - loss: 1.1070 - accuracy: 0.6195 - val_loss: 1.4585 - val_accuracy: 0.4845\n",
      "Epoch 19/50\n",
      "50000/50000 [==============================] - 1s 28us/step - loss: 1.0856 - accuracy: 0.6288 - val_loss: 1.4538 - val_accuracy: 0.4891\n",
      "Epoch 20/50\n",
      "50000/50000 [==============================] - 1s 28us/step - loss: 1.0662 - accuracy: 0.6368 - val_loss: 1.4641 - val_accuracy: 0.4830\n",
      "Epoch 21/50\n",
      "50000/50000 [==============================] - 1s 28us/step - loss: 1.0428 - accuracy: 0.6466 - val_loss: 1.4640 - val_accuracy: 0.4863\n",
      "Epoch 22/50\n",
      "50000/50000 [==============================] - 1s 29us/step - loss: 1.0239 - accuracy: 0.6542 - val_loss: 1.4551 - val_accuracy: 0.4905\n",
      "Epoch 23/50\n",
      "50000/50000 [==============================] - 1s 28us/step - loss: 1.0020 - accuracy: 0.6619 - val_loss: 1.4572 - val_accuracy: 0.4861\n",
      "Epoch 24/50\n",
      "50000/50000 [==============================] - 1s 28us/step - loss: 0.9825 - accuracy: 0.6693 - val_loss: 1.4588 - val_accuracy: 0.4871\n",
      "Epoch 25/50\n",
      "50000/50000 [==============================] - 1s 28us/step - loss: 0.9625 - accuracy: 0.6770 - val_loss: 1.4815 - val_accuracy: 0.4883\n",
      "Epoch 26/50\n",
      "50000/50000 [==============================] - 1s 28us/step - loss: 0.9424 - accuracy: 0.6853 - val_loss: 1.4593 - val_accuracy: 0.4930\n",
      "Epoch 27/50\n",
      "50000/50000 [==============================] - 1s 28us/step - loss: 0.9227 - accuracy: 0.6944 - val_loss: 1.4618 - val_accuracy: 0.4966\n",
      "Epoch 28/50\n",
      "50000/50000 [==============================] - 1s 27us/step - loss: 0.9029 - accuracy: 0.7007 - val_loss: 1.4930 - val_accuracy: 0.4887\n",
      "Epoch 29/50\n",
      "50000/50000 [==============================] - 1s 27us/step - loss: 0.8834 - accuracy: 0.7068 - val_loss: 1.4769 - val_accuracy: 0.4930\n",
      "Epoch 30/50\n",
      "50000/50000 [==============================] - 1s 28us/step - loss: 0.8621 - accuracy: 0.7171 - val_loss: 1.4820 - val_accuracy: 0.4873\n",
      "Epoch 31/50\n",
      "50000/50000 [==============================] - 1s 28us/step - loss: 0.8419 - accuracy: 0.7251 - val_loss: 1.4813 - val_accuracy: 0.4897\n",
      "Epoch 32/50\n",
      "50000/50000 [==============================] - 1s 28us/step - loss: 0.8249 - accuracy: 0.7316 - val_loss: 1.4932 - val_accuracy: 0.4936\n",
      "Epoch 33/50\n",
      "50000/50000 [==============================] - 1s 28us/step - loss: 0.8052 - accuracy: 0.7389 - val_loss: 1.4863 - val_accuracy: 0.5016\n",
      "Epoch 34/50\n",
      "50000/50000 [==============================] - 1s 28us/step - loss: 0.7845 - accuracy: 0.7464 - val_loss: 1.5084 - val_accuracy: 0.4969\n",
      "Epoch 35/50\n",
      "50000/50000 [==============================] - 1s 28us/step - loss: 0.7685 - accuracy: 0.7528 - val_loss: 1.5028 - val_accuracy: 0.4974\n",
      "Epoch 36/50\n",
      "50000/50000 [==============================] - 1s 27us/step - loss: 0.7480 - accuracy: 0.7606 - val_loss: 1.5269 - val_accuracy: 0.4891\n",
      "Epoch 37/50\n",
      "50000/50000 [==============================] - 1s 27us/step - loss: 0.7304 - accuracy: 0.7697 - val_loss: 1.5326 - val_accuracy: 0.4948\n",
      "Epoch 38/50\n",
      "50000/50000 [==============================] - 1s 28us/step - loss: 0.7124 - accuracy: 0.7759 - val_loss: 1.5292 - val_accuracy: 0.4930\n",
      "Epoch 39/50\n",
      "50000/50000 [==============================] - 1s 27us/step - loss: 0.6945 - accuracy: 0.7841 - val_loss: 1.5382 - val_accuracy: 0.4965\n",
      "Epoch 40/50\n",
      "50000/50000 [==============================] - 1s 28us/step - loss: 0.6753 - accuracy: 0.7904 - val_loss: 1.5498 - val_accuracy: 0.4965\n",
      "Epoch 41/50\n",
      "50000/50000 [==============================] - 1s 29us/step - loss: 0.6588 - accuracy: 0.7976 - val_loss: 1.5696 - val_accuracy: 0.4964\n",
      "Epoch 42/50\n",
      "50000/50000 [==============================] - 1s 28us/step - loss: 0.6412 - accuracy: 0.8041 - val_loss: 1.5666 - val_accuracy: 0.4922\n",
      "Epoch 43/50\n",
      "50000/50000 [==============================] - 1s 28us/step - loss: 0.6239 - accuracy: 0.8111 - val_loss: 1.5883 - val_accuracy: 0.4931\n",
      "Epoch 44/50\n",
      "50000/50000 [==============================] - 1s 27us/step - loss: 0.6029 - accuracy: 0.8202 - val_loss: 1.5780 - val_accuracy: 0.4968\n",
      "Epoch 45/50\n",
      "50000/50000 [==============================] - 1s 29us/step - loss: 0.5891 - accuracy: 0.8253 - val_loss: 1.6070 - val_accuracy: 0.4958\n",
      "Epoch 46/50\n"
     ]
    },
    {
     "name": "stdout",
     "output_type": "stream",
     "text": [
      "50000/50000 [==============================] - 1s 27us/step - loss: 0.5703 - accuracy: 0.8334 - val_loss: 1.6104 - val_accuracy: 0.4926\n",
      "Epoch 47/50\n",
      "50000/50000 [==============================] - 1s 28us/step - loss: 0.5543 - accuracy: 0.8395 - val_loss: 1.6255 - val_accuracy: 0.4935\n",
      "Epoch 48/50\n",
      "50000/50000 [==============================] - 1s 29us/step - loss: 0.5371 - accuracy: 0.8444 - val_loss: 1.6548 - val_accuracy: 0.4875\n",
      "Epoch 49/50\n",
      "50000/50000 [==============================] - 1s 28us/step - loss: 0.5211 - accuracy: 0.8520 - val_loss: 1.6561 - val_accuracy: 0.4963\n",
      "Epoch 50/50\n",
      "50000/50000 [==============================] - 1s 28us/step - loss: 0.5049 - accuracy: 0.8585 - val_loss: 1.6669 - val_accuracy: 0.4894\n",
      "10000/10000 [==============================] - 1s 72us/step\n"
     ]
    },
    {
     "data": {
      "image/png": "[encoded data removed]",
      "text/plain": [
       "<Figure size 432x288 with 1 Axes>"
      ]
     },
     "metadata": {
      "needs_background": "light"
     },
     "output_type": "display_data"
    },
    {
     "data": {
      "image/png": "[encoded data removed]",
      "text/plain": [
       "<Figure size 432x288 with 1 Axes>"
      ]
     },
     "metadata": {
      "needs_background": "light"
     },
     "output_type": "display_data"
    }
   ],
   "source": [
    "# 載入 Callbacks\n",
    "from keras.callbacks import ModelCheckpoint\n",
    "\n",
    "results = {}\n",
    "\n",
    "for save_best_only in [True, False]:\n",
    "    model_ckpt = ModelCheckpoint(filepath=\"./tmp.h5\", \n",
    "                             monitor=\"val_loss\", \n",
    "                             save_best_only=save_best_only)\n",
    "    model = build_mlp(input_shape=x_train.shape[1:])\n",
    "    model.summary()\n",
    "    optimizer = keras.optimizers.SGD(lr=LEARNING_RATE, nesterov=True, momentum=MOMENTUM)\n",
    "    model.compile(loss=\"categorical_crossentropy\", metrics=[\"accuracy\"], optimizer=optimizer)\n",
    "\n",
    "    model.fit(x_train, y_train, \n",
    "              epochs=EPOCHS, \n",
    "              batch_size=BATCH_SIZE, \n",
    "              validation_data=(x_test, y_test), \n",
    "              shuffle=True,\n",
    "              callbacks=[model_ckpt]\n",
    "             )\n",
    "    # Collect results    \n",
    "    train_loss = model.history.history[\"loss\"]\n",
    "    valid_loss = model.history.history[\"val_loss\"]\n",
    "    train_acc = model.history.history[\"accuracy\"]\n",
    "    valid_acc = model.history.history[\"val_accuracy\"]\n",
    "    name_tag = 'save_best_only: %s' % str(save_best_only)\n",
    "    results[name_tag] = {'train-loss': train_loss,\n",
    "                         'valid-loss': valid_loss,\n",
    "                         'train-acc': train_acc,\n",
    "                         'valid-acc': valid_acc}\n",
    "    \n",
    "     # Load back\n",
    "    model = keras.models.load_model(\"./tmp.h5\")\n",
    "    loss_loadback, acc_loadback = model.evaluate(x_test, y_test)\n",
    "\n",
    "    import matplotlib.pyplot as plt\n",
    "    %matplotlib inline\n",
    "\n",
    "    plt.plot(range(len(train_loss)), train_loss, label=\"train loss\")\n",
    "    plt.plot(range(len(valid_loss)), valid_loss, label=\"valid loss\")\n",
    "    plt.hlines(y=loss_loadback, xmin=0, xmax=len(train_loss), colors='r', linestyles='--')\n",
    "    plt.legend()\n",
    "    plt.title(\"Loss\")\n",
    "    plt.show()\n",
    "\n",
    "    plt.plot(range(len(train_acc)), train_acc, label=\"train accuracy\")\n",
    "    plt.plot(range(len(valid_acc)), valid_acc, label=\"valid accuracy\")\n",
    "    plt.hlines(y=acc_loadback, xmin=0, xmax=len(train_loss), colors='r', linestyles='--')\n",
    "    plt.legend()\n",
    "    plt.title(\"Accuracy\")\n",
    "    plt.show()"
   ]
  }
 ],
 "metadata": {
  "kernelspec": {
   "display_name": "Python 3",
   "language": "python",
   "name": "python3"
  },
  "language_info": {
   "codemirror_mode": {
    "name": "ipython",
    "version": 3
   },
   "file_extension": ".py",
   "mimetype": "text/x-python",
   "name": "python",
   "nbconvert_exporter": "python",
   "pygments_lexer": "ipython3",
   "version": "3.7.3"
  }
 },
 "nbformat": 4,
 "nbformat_minor": 2
}
