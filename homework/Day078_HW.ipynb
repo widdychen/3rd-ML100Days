{
 "cells": [
  {
   "cell_type": "markdown",
   "metadata": {},
   "source": [
    "## Work\n",
    "1. 請嘗試將 preproc_x 替換成以每筆資料的 min/max 進行標準化至 -1 ~ 1 間，再進行訓練\n",
    "2. 請嘗試將 mlp 疊更深 (e.g 5~10 層)，進行訓練後觀察 learning curve 的走勢\n",
    "3. (optional) 請改用 GPU 進行訓練 (如果你有 GPU 的話)，比較使用 CPU 與 GPU 的訓練速度"
   ]
  },
  {
   "cell_type": "code",
   "execution_count": 1,
   "metadata": {},
   "outputs": [
    {
     "name": "stdout",
     "output_type": "stream",
     "text": [
      "Mon Nov 25 16:57:00 2019       \n",
      "+-----------------------------------------------------------------------------+\n",
      "| NVIDIA-SMI 431.86       Driver Version: 431.86       CUDA Version: 10.1     |\n",
      "|-------------------------------+----------------------+----------------------+\n",
      "| GPU  Name            TCC/WDDM | Bus-Id        Disp.A | Volatile Uncorr. ECC |\n",
      "| Fan  Temp  Perf  Pwr:Usage/Cap|         Memory-Usage | GPU-Util  Compute M. |\n",
      "|===============================+======================+======================|\n",
      "|   0  GeForce RTX 2060   WDDM  | 00000000:01:00.0 Off |                  N/A |\n",
      "| 42%   45C    P8     7W / 170W |    408MiB /  6144MiB |      2%      Default |\n",
      "+-------------------------------+----------------------+----------------------+\n",
      "                                                                               \n",
      "+-----------------------------------------------------------------------------+\n",
      "| Processes:                                                       GPU Memory |\n",
      "|  GPU       PID   Type   Process name                             Usage      |\n",
      "|=============================================================================|\n",
      "|    0      1136    C+G   ...x64__8wekyb3d8bbwe\\Microsoft.Photos.exe N/A      |\n",
      "|    0      1576    C+G   ....399.0_x64__8wekyb3d8bbwe\\YourPhone.exe N/A      |\n",
      "|    0      5124    C+G   ...al\\Google\\Chrome\\Application\\chrome.exe N/A      |\n",
      "|    0      5316    C+G   ...hell.Experiences.TextInput.InputApp.exe N/A      |\n",
      "|    0      5636    C+G   Insufficient Permissions                   N/A      |\n",
      "|    0      9908    C+G   ...es (x86)\\Internet Explorer\\iexplore.exe N/A      |\n",
      "|    0      9964    C+G   ...53.85.0_x64__kzf8qxf38zg5c\\SkypeApp.exe N/A      |\n",
      "|    0     10628    C+G   C:\\Windows\\explorer.exe                    N/A      |\n",
      "|    0     11108    C+G   ...dows.Cortana_cw5n1h2txyewy\\SearchUI.exe N/A      |\n",
      "|    0     12220    C+G   ...t_cw5n1h2txyewy\\ShellExperienceHost.exe N/A      |\n",
      "+-----------------------------------------------------------------------------+\n"
     ]
    }
   ],
   "source": [
    "## \n",
    "\"\"\"\n",
    "Your code here (optional)\n",
    "確認硬體資源\n",
    "\"\"\"\n",
    "!nvidia-smi"
   ]
  },
  {
   "cell_type": "code",
   "execution_count": 2,
   "metadata": {},
   "outputs": [
    {
     "name": "stderr",
     "output_type": "stream",
     "text": [
      "Using TensorFlow backend.\n"
     ]
    }
   ],
   "source": [
    "import os\n",
    "import keras\n",
    "from keras.utils.np_utils import to_categorical # used for converting labels to one-hot-encoding\n",
    "from keras.models import Sequential\n",
    "from keras.layers import Dense, Dropout, Flatten, Conv2D, MaxPool2D,Activation\n",
    "from keras.layers import Conv2D, MaxPooling2D, ZeroPadding2D, GlobalMaxPooling2D\n",
    "from keras import backend as K\n",
    "from keras.datasets import cifar10\n",
    "import itertools\n",
    "from keras.layers.normalization import BatchNormalization\n",
    "from keras.preprocessing.image import ImageDataGenerator\n",
    "from keras.models import Model\n",
    "\n",
    "# 請嘗試設定 GPU：os.environ\n"
   ]
  },
  {
   "cell_type": "code",
   "execution_count": 3,
   "metadata": {},
   "outputs": [],
   "source": [
    "train, test = keras.datasets.cifar10.load_data()"
   ]
  },
  {
   "cell_type": "code",
   "execution_count": 4,
   "metadata": {},
   "outputs": [],
   "source": [
    "## 資料前處理\n",
    "def preproc_x(x, flatten=True):\n",
    "    x = 2*x/255-1\n",
    "    if flatten:\n",
    "        x = x.reshape((len(x), -1))\n",
    "    return x\n",
    "\n",
    "def preproc_y(y, num_classes=10):\n",
    "    if y.shape[-1] == 1:\n",
    "        y = keras.utils.to_categorical(y, num_classes)\n",
    "    return y"
   ]
  },
  {
   "cell_type": "code",
   "execution_count": 5,
   "metadata": {},
   "outputs": [],
   "source": [
    "x_train, y_train = train\n",
    "x_test, y_test = test\n",
    "\n",
    "# Preproc the inputs\n",
    "x_train = preproc_x(x_train)\n",
    "x_test = preproc_x(x_test)\n",
    "\n",
    "# Preprc the outputs\n",
    "y_train = preproc_y(y_train)\n",
    "y_test = preproc_y(y_test)"
   ]
  },
  {
   "cell_type": "code",
   "execution_count": 6,
   "metadata": {},
   "outputs": [
    {
     "name": "stdout",
     "output_type": "stream",
     "text": [
      "Model: \"model_1\"\n",
      "_________________________________________________________________\n",
      "Layer (type)                 Output Shape              Param #   \n",
      "=================================================================\n",
      "input_1 (InputLayer)         (None, 3072)              0         \n",
      "_________________________________________________________________\n",
      "hidden_layer1 (Dense)        (None, 512)               1573376   \n",
      "_________________________________________________________________\n",
      "hidden_layer2 (Dense)        (None, 256)               131328    \n",
      "_________________________________________________________________\n",
      "hidden_layer3 (Dense)        (None, 128)               32896     \n",
      "_________________________________________________________________\n",
      "output (Dense)               (None, 10)                1290      \n",
      "=================================================================\n",
      "Total params: 1,738,890\n",
      "Trainable params: 1,738,890\n",
      "Non-trainable params: 0\n",
      "_________________________________________________________________\n"
     ]
    }
   ],
   "source": [
    "def build_mlp(input_shape, output_units=10, num_neurons=[512, 256, 128]):\n",
    "    input_layer = keras.layers.Input(input_shape)\n",
    "    \n",
    "    for i, n_units in enumerate(num_neurons):\n",
    "        if i == 0:\n",
    "            x = keras.layers.Dense(units=n_units, activation=\"relu\", name=\"hidden_layer\"+str(i+1))(input_layer)\n",
    "        else:\n",
    "            x = keras.layers.Dense(units=n_units, activation=\"relu\", name=\"hidden_layer\"+str(i+1))(x)\n",
    "    \n",
    "    out = keras.layers.Dense(units=output_units, activation=\"softmax\", name=\"output\")(x)\n",
    "    \n",
    "    model = keras.models.Model(inputs=[input_layer], outputs=[out])\n",
    "    return model\n",
    "\n",
    "model = build_mlp(input_shape=x_train.shape[1:])\n",
    "model.summary()"
   ]
  },
  {
   "cell_type": "code",
   "execution_count": 7,
   "metadata": {},
   "outputs": [],
   "source": [
    "## 超參數設定\n",
    "LEARNING_RATE = 0.001\n",
    "EPOCHS = 100\n",
    "BATCH_SIZE = 256"
   ]
  },
  {
   "cell_type": "code",
   "execution_count": 8,
   "metadata": {},
   "outputs": [],
   "source": [
    "optimizer = keras.optimizers.Adam(lr=LEARNING_RATE,decay=1e-5)\n",
    "model.compile(loss=\"categorical_crossentropy\", metrics=[\"accuracy\"], optimizer=optimizer)"
   ]
  },
  {
   "cell_type": "code",
   "execution_count": 9,
   "metadata": {},
   "outputs": [
    {
     "name": "stdout",
     "output_type": "stream",
     "text": [
      "WARNING:tensorflow:From C:\\Users\\1911141\\AppData\\Local\\Continuum\\anaconda3\\lib\\site-packages\\keras\\backend\\tensorflow_backend.py:422: The name tf.global_variables is deprecated. Please use tf.compat.v1.global_variables instead.\n",
      "\n",
      "Train on 50000 samples, validate on 10000 samples\n",
      "Epoch 1/100\n",
      "50000/50000 [==============================] - 2s 43us/step - loss: 2.2570 - accuracy: 0.1550 - val_loss: 2.1966 - val_accuracy: 0.1779\n",
      "Epoch 2/100\n",
      "50000/50000 [==============================] - 2s 38us/step - loss: 2.1415 - accuracy: 0.2139 - val_loss: 2.1068 - val_accuracy: 0.2264\n",
      "Epoch 3/100\n",
      "50000/50000 [==============================] - 2s 37us/step - loss: 2.0574 - accuracy: 0.2535 - val_loss: 2.0670 - val_accuracy: 0.2442\n",
      "Epoch 4/100\n",
      "50000/50000 [==============================] - 2s 37us/step - loss: 2.0019 - accuracy: 0.2756 - val_loss: 2.0180 - val_accuracy: 0.2654\n",
      "Epoch 5/100\n",
      "50000/50000 [==============================] - 2s 37us/step - loss: 1.9627 - accuracy: 0.2931 - val_loss: 2.0211 - val_accuracy: 0.2742\n",
      "Epoch 6/100\n",
      "50000/50000 [==============================] - 2s 38us/step - loss: 1.9260 - accuracy: 0.3068 - val_loss: 2.0286 - val_accuracy: 0.2681\n",
      "Epoch 7/100\n",
      "50000/50000 [==============================] - 2s 36us/step - loss: 1.8985 - accuracy: 0.3180 - val_loss: 1.9625 - val_accuracy: 0.2892\n",
      "Epoch 8/100\n",
      "50000/50000 [==============================] - 2s 35us/step - loss: 1.8624 - accuracy: 0.3327 - val_loss: 1.9621 - val_accuracy: 0.2907\n",
      "Epoch 9/100\n",
      "50000/50000 [==============================] - 2s 35us/step - loss: 1.8252 - accuracy: 0.3479 - val_loss: 1.9625 - val_accuracy: 0.2949\n",
      "Epoch 10/100\n",
      "50000/50000 [==============================] - 2s 35us/step - loss: 1.8019 - accuracy: 0.3562 - val_loss: 1.9727 - val_accuracy: 0.2932\n",
      "Epoch 11/100\n",
      "50000/50000 [==============================] - 2s 35us/step - loss: 1.7542 - accuracy: 0.3774 - val_loss: 1.9417 - val_accuracy: 0.3030\n",
      "Epoch 12/100\n",
      "50000/50000 [==============================] - 2s 34us/step - loss: 1.7154 - accuracy: 0.3926 - val_loss: 1.9653 - val_accuracy: 0.3072\n",
      "Epoch 13/100\n",
      "50000/50000 [==============================] - 2s 35us/step - loss: 1.6825 - accuracy: 0.4009 - val_loss: 1.9972 - val_accuracy: 0.2870\n",
      "Epoch 14/100\n",
      "50000/50000 [==============================] - 2s 35us/step - loss: 1.6590 - accuracy: 0.4131 - val_loss: 1.9918 - val_accuracy: 0.3053\n",
      "Epoch 15/100\n",
      "50000/50000 [==============================] - 2s 35us/step - loss: 1.6136 - accuracy: 0.4289 - val_loss: 2.0098 - val_accuracy: 0.3070\n",
      "Epoch 16/100\n",
      "50000/50000 [==============================] - 2s 35us/step - loss: 1.5841 - accuracy: 0.4384 - val_loss: 1.9887 - val_accuracy: 0.3102\n",
      "Epoch 17/100\n",
      "50000/50000 [==============================] - 2s 35us/step - loss: 1.5446 - accuracy: 0.4530 - val_loss: 2.0239 - val_accuracy: 0.3082\n",
      "Epoch 18/100\n",
      "50000/50000 [==============================] - 2s 35us/step - loss: 1.4988 - accuracy: 0.4724 - val_loss: 2.0460 - val_accuracy: 0.3111\n",
      "Epoch 19/100\n",
      "50000/50000 [==============================] - 2s 34us/step - loss: 1.4544 - accuracy: 0.4848 - val_loss: 2.0457 - val_accuracy: 0.3074\n",
      "Epoch 20/100\n",
      "50000/50000 [==============================] - 2s 35us/step - loss: 1.4206 - accuracy: 0.4982 - val_loss: 2.0679 - val_accuracy: 0.3105\n",
      "Epoch 21/100\n",
      "50000/50000 [==============================] - 2s 35us/step - loss: 1.3856 - accuracy: 0.5144 - val_loss: 2.1153 - val_accuracy: 0.3071\n",
      "Epoch 22/100\n",
      "50000/50000 [==============================] - 2s 35us/step - loss: 1.3494 - accuracy: 0.5242 - val_loss: 2.1738 - val_accuracy: 0.3042\n",
      "Epoch 23/100\n",
      "50000/50000 [==============================] - 2s 35us/step - loss: 1.3101 - accuracy: 0.5366 - val_loss: 2.1940 - val_accuracy: 0.2951\n",
      "Epoch 24/100\n",
      "50000/50000 [==============================] - 2s 35us/step - loss: 1.2700 - accuracy: 0.5548 - val_loss: 2.2107 - val_accuracy: 0.3067\n",
      "Epoch 25/100\n",
      "50000/50000 [==============================] - 2s 35us/step - loss: 1.2299 - accuracy: 0.5669 - val_loss: 2.2587 - val_accuracy: 0.2993\n",
      "Epoch 26/100\n",
      "50000/50000 [==============================] - 2s 35us/step - loss: 1.1901 - accuracy: 0.5803 - val_loss: 2.2828 - val_accuracy: 0.3110\n",
      "Epoch 27/100\n",
      "50000/50000 [==============================] - 2s 34us/step - loss: 1.1481 - accuracy: 0.5988 - val_loss: 2.4097 - val_accuracy: 0.2908\n",
      "Epoch 28/100\n",
      "50000/50000 [==============================] - 2s 35us/step - loss: 1.1075 - accuracy: 0.6111 - val_loss: 2.4169 - val_accuracy: 0.2968\n",
      "Epoch 29/100\n",
      "50000/50000 [==============================] - 2s 35us/step - loss: 1.0664 - accuracy: 0.6282 - val_loss: 2.5884 - val_accuracy: 0.2911\n",
      "Epoch 30/100\n",
      "50000/50000 [==============================] - 2s 35us/step - loss: 1.0288 - accuracy: 0.6385 - val_loss: 2.4808 - val_accuracy: 0.3025\n",
      "Epoch 31/100\n",
      "50000/50000 [==============================] - 2s 35us/step - loss: 0.9866 - accuracy: 0.6532 - val_loss: 2.6082 - val_accuracy: 0.2986\n",
      "Epoch 32/100\n",
      "50000/50000 [==============================] - 2s 34us/step - loss: 0.9574 - accuracy: 0.6670 - val_loss: 2.6185 - val_accuracy: 0.2948\n",
      "Epoch 33/100\n",
      "50000/50000 [==============================] - 2s 35us/step - loss: 0.9252 - accuracy: 0.6753 - val_loss: 2.7484 - val_accuracy: 0.2940\n",
      "Epoch 34/100\n",
      "50000/50000 [==============================] - 2s 34us/step - loss: 0.8961 - accuracy: 0.6887 - val_loss: 2.6976 - val_accuracy: 0.2998\n",
      "Epoch 35/100\n",
      "50000/50000 [==============================] - 2s 35us/step - loss: 0.8481 - accuracy: 0.7043 - val_loss: 2.9430 - val_accuracy: 0.2897\n",
      "Epoch 36/100\n",
      "50000/50000 [==============================] - 2s 35us/step - loss: 0.8220 - accuracy: 0.7124 - val_loss: 2.9502 - val_accuracy: 0.2862\n",
      "Epoch 37/100\n",
      "50000/50000 [==============================] - 2s 35us/step - loss: 0.7659 - accuracy: 0.7337 - val_loss: 3.0322 - val_accuracy: 0.2865\n",
      "Epoch 38/100\n",
      "50000/50000 [==============================] - 2s 35us/step - loss: 0.7509 - accuracy: 0.7379 - val_loss: 3.0310 - val_accuracy: 0.2922\n",
      "Epoch 39/100\n",
      "50000/50000 [==============================] - 2s 35us/step - loss: 0.7318 - accuracy: 0.7439 - val_loss: 3.1569 - val_accuracy: 0.2917\n",
      "Epoch 40/100\n",
      "50000/50000 [==============================] - 2s 35us/step - loss: 0.7062 - accuracy: 0.7563 - val_loss: 3.2800 - val_accuracy: 0.2944\n",
      "Epoch 41/100\n",
      "50000/50000 [==============================] - 2s 36us/step - loss: 0.6547 - accuracy: 0.7736 - val_loss: 3.2592 - val_accuracy: 0.2913\n",
      "Epoch 42/100\n",
      "50000/50000 [==============================] - 2s 34us/step - loss: 0.6469 - accuracy: 0.7749 - val_loss: 3.4623 - val_accuracy: 0.2898\n",
      "Epoch 43/100\n",
      "50000/50000 [==============================] - 2s 35us/step - loss: 0.5978 - accuracy: 0.7934 - val_loss: 3.5659 - val_accuracy: 0.2811\n",
      "Epoch 44/100\n",
      "50000/50000 [==============================] - 2s 35us/step - loss: 0.5773 - accuracy: 0.8009 - val_loss: 3.5645 - val_accuracy: 0.2819\n",
      "Epoch 45/100\n",
      "50000/50000 [==============================] - 2s 35us/step - loss: 0.5593 - accuracy: 0.8067 - val_loss: 3.6626 - val_accuracy: 0.2850\n",
      "Epoch 46/100\n",
      "50000/50000 [==============================] - 2s 35us/step - loss: 0.5289 - accuracy: 0.8187 - val_loss: 3.9417 - val_accuracy: 0.2820\n",
      "Epoch 47/100\n",
      "50000/50000 [==============================] - 2s 34us/step - loss: 0.5101 - accuracy: 0.8258 - val_loss: 3.9415 - val_accuracy: 0.2846\n",
      "Epoch 48/100\n",
      "50000/50000 [==============================] - 2s 36us/step - loss: 0.5077 - accuracy: 0.8246 - val_loss: 3.9121 - val_accuracy: 0.2800\n",
      "Epoch 49/100\n",
      "50000/50000 [==============================] - 2s 36us/step - loss: 0.4962 - accuracy: 0.8285 - val_loss: 4.1897 - val_accuracy: 0.2820\n",
      "Epoch 50/100\n",
      "50000/50000 [==============================] - 2s 35us/step - loss: 0.4497 - accuracy: 0.8461 - val_loss: 4.1632 - val_accuracy: 0.2846\n",
      "Epoch 51/100\n",
      "50000/50000 [==============================] - 2s 35us/step - loss: 0.4346 - accuracy: 0.8518 - val_loss: 4.3800 - val_accuracy: 0.2846\n",
      "Epoch 52/100\n",
      "50000/50000 [==============================] - 2s 34us/step - loss: 0.4025 - accuracy: 0.8657 - val_loss: 4.5305 - val_accuracy: 0.2813\n",
      "Epoch 53/100\n",
      "50000/50000 [==============================] - 2s 34us/step - loss: 0.4176 - accuracy: 0.8568 - val_loss: 4.3736 - val_accuracy: 0.2839\n",
      "Epoch 54/100\n"
     ]
    },
    {
     "name": "stdout",
     "output_type": "stream",
     "text": [
      "50000/50000 [==============================] - 2s 34us/step - loss: 0.3787 - accuracy: 0.8722 - val_loss: 4.5807 - val_accuracy: 0.2754\n",
      "Epoch 55/100\n",
      "50000/50000 [==============================] - 2s 35us/step - loss: 0.3895 - accuracy: 0.8674 - val_loss: 4.7332 - val_accuracy: 0.2811\n",
      "Epoch 56/100\n",
      "50000/50000 [==============================] - 2s 35us/step - loss: 0.3486 - accuracy: 0.8816 - val_loss: 4.7472 - val_accuracy: 0.2861\n",
      "Epoch 57/100\n",
      "50000/50000 [==============================] - 2s 35us/step - loss: 0.3210 - accuracy: 0.8931 - val_loss: 4.9092 - val_accuracy: 0.2770\n",
      "Epoch 58/100\n",
      "50000/50000 [==============================] - 2s 36us/step - loss: 0.3100 - accuracy: 0.8969 - val_loss: 5.0083 - val_accuracy: 0.2840\n",
      "Epoch 59/100\n",
      "50000/50000 [==============================] - 2s 35us/step - loss: 0.3361 - accuracy: 0.8856 - val_loss: 5.1609 - val_accuracy: 0.2799\n",
      "Epoch 60/100\n",
      "50000/50000 [==============================] - 2s 35us/step - loss: 0.3240 - accuracy: 0.8902 - val_loss: 4.9498 - val_accuracy: 0.2827\n",
      "Epoch 61/100\n",
      "50000/50000 [==============================] - 2s 35us/step - loss: 0.3046 - accuracy: 0.8964 - val_loss: 5.3405 - val_accuracy: 0.2862\n",
      "Epoch 62/100\n",
      "50000/50000 [==============================] - 2s 35us/step - loss: 0.2714 - accuracy: 0.9095 - val_loss: 5.4272 - val_accuracy: 0.2803\n",
      "Epoch 63/100\n",
      "50000/50000 [==============================] - 2s 35us/step - loss: 0.2545 - accuracy: 0.9141 - val_loss: 5.7110 - val_accuracy: 0.2806\n",
      "Epoch 64/100\n",
      "50000/50000 [==============================] - 2s 35us/step - loss: 0.2744 - accuracy: 0.9085 - val_loss: 5.6893 - val_accuracy: 0.2743\n",
      "Epoch 65/100\n",
      "50000/50000 [==============================] - 2s 36us/step - loss: 0.2769 - accuracy: 0.9051 - val_loss: 5.8105 - val_accuracy: 0.2793\n",
      "Epoch 66/100\n",
      "50000/50000 [==============================] - 2s 35us/step - loss: 0.2482 - accuracy: 0.9162 - val_loss: 6.0188 - val_accuracy: 0.2709\n",
      "Epoch 67/100\n",
      "50000/50000 [==============================] - 2s 34us/step - loss: 0.2387 - accuracy: 0.9202 - val_loss: 5.9908 - val_accuracy: 0.2835\n",
      "Epoch 68/100\n",
      "50000/50000 [==============================] - 2s 35us/step - loss: 0.2105 - accuracy: 0.9311 - val_loss: 6.2594 - val_accuracy: 0.2806\n",
      "Epoch 69/100\n",
      "50000/50000 [==============================] - 2s 35us/step - loss: 0.2137 - accuracy: 0.9296 - val_loss: 6.1674 - val_accuracy: 0.2831\n",
      "Epoch 70/100\n",
      "50000/50000 [==============================] - 2s 35us/step - loss: 0.2145 - accuracy: 0.9280 - val_loss: 6.3019 - val_accuracy: 0.2784\n",
      "Epoch 71/100\n",
      "50000/50000 [==============================] - 2s 35us/step - loss: 0.2127 - accuracy: 0.9292 - val_loss: 6.3745 - val_accuracy: 0.2753\n",
      "Epoch 72/100\n",
      "50000/50000 [==============================] - 2s 35us/step - loss: 0.3214 - accuracy: 0.8907 - val_loss: 6.2510 - val_accuracy: 0.2792\n",
      "Epoch 73/100\n",
      "50000/50000 [==============================] - 2s 35us/step - loss: 0.1937 - accuracy: 0.9358 - val_loss: 6.5661 - val_accuracy: 0.2817\n",
      "Epoch 74/100\n",
      "50000/50000 [==============================] - 2s 35us/step - loss: 0.1854 - accuracy: 0.9385 - val_loss: 6.5257 - val_accuracy: 0.2759\n",
      "Epoch 75/100\n",
      "50000/50000 [==============================] - 2s 35us/step - loss: 0.1388 - accuracy: 0.9575 - val_loss: 6.6416 - val_accuracy: 0.2806\n",
      "Epoch 76/100\n",
      "50000/50000 [==============================] - 2s 35us/step - loss: 0.1909 - accuracy: 0.9365 - val_loss: 6.8007 - val_accuracy: 0.2763\n",
      "Epoch 77/100\n",
      "50000/50000 [==============================] - 2s 35us/step - loss: 0.1878 - accuracy: 0.9371 - val_loss: 7.0796 - val_accuracy: 0.2816\n",
      "Epoch 78/100\n",
      "50000/50000 [==============================] - 2s 34us/step - loss: 0.1930 - accuracy: 0.9363 - val_loss: 6.8555 - val_accuracy: 0.2874\n",
      "Epoch 79/100\n",
      "50000/50000 [==============================] - 2s 35us/step - loss: 0.1921 - accuracy: 0.9340 - val_loss: 7.0990 - val_accuracy: 0.2768\n",
      "Epoch 80/100\n",
      "50000/50000 [==============================] - 2s 35us/step - loss: 0.1549 - accuracy: 0.9495 - val_loss: 7.2086 - val_accuracy: 0.2797\n",
      "Epoch 81/100\n",
      "50000/50000 [==============================] - 2s 35us/step - loss: 0.1130 - accuracy: 0.9660 - val_loss: 7.3717 - val_accuracy: 0.2786\n",
      "Epoch 82/100\n",
      "50000/50000 [==============================] - 2s 35us/step - loss: 0.1493 - accuracy: 0.9504 - val_loss: 7.3598 - val_accuracy: 0.2784\n",
      "Epoch 83/100\n",
      "50000/50000 [==============================] - 2s 35us/step - loss: 0.2077 - accuracy: 0.9289 - val_loss: 7.1486 - val_accuracy: 0.2685\n",
      "Epoch 84/100\n",
      "50000/50000 [==============================] - 2s 35us/step - loss: 0.1501 - accuracy: 0.9509 - val_loss: 7.6308 - val_accuracy: 0.2760\n",
      "Epoch 85/100\n",
      "50000/50000 [==============================] - 2s 35us/step - loss: 0.1342 - accuracy: 0.9578 - val_loss: 7.8385 - val_accuracy: 0.2704\n",
      "Epoch 86/100\n",
      "50000/50000 [==============================] - 2s 35us/step - loss: 0.3344 - accuracy: 0.8856 - val_loss: 7.0879 - val_accuracy: 0.2782\n",
      "Epoch 87/100\n",
      "50000/50000 [==============================] - 2s 35us/step - loss: 0.1116 - accuracy: 0.9660 - val_loss: 7.4051 - val_accuracy: 0.2806\n",
      "Epoch 88/100\n",
      "50000/50000 [==============================] - 2s 35us/step - loss: 0.0721 - accuracy: 0.9810 - val_loss: 7.9083 - val_accuracy: 0.2756\n",
      "Epoch 89/100\n",
      "50000/50000 [==============================] - 2s 37us/step - loss: 0.1437 - accuracy: 0.9521 - val_loss: 7.7270 - val_accuracy: 0.2803\n",
      "Epoch 90/100\n",
      "50000/50000 [==============================] - 2s 36us/step - loss: 0.2026 - accuracy: 0.9310 - val_loss: 7.8610 - val_accuracy: 0.2739\n",
      "Epoch 91/100\n",
      "50000/50000 [==============================] - 2s 36us/step - loss: 0.2224 - accuracy: 0.9237 - val_loss: 7.3589 - val_accuracy: 0.2793\n",
      "Epoch 92/100\n",
      "50000/50000 [==============================] - 2s 36us/step - loss: 0.0748 - accuracy: 0.9787 - val_loss: 7.8366 - val_accuracy: 0.2787\n",
      "Epoch 93/100\n",
      "50000/50000 [==============================] - 2s 38us/step - loss: 0.0462 - accuracy: 0.9897 - val_loss: 7.8843 - val_accuracy: 0.2868\n",
      "Epoch 94/100\n",
      "50000/50000 [==============================] - 2s 38us/step - loss: 0.0499 - accuracy: 0.9879 - val_loss: 8.0692 - val_accuracy: 0.2821\n",
      "Epoch 95/100\n",
      "50000/50000 [==============================] - 2s 37us/step - loss: 0.0586 - accuracy: 0.9839 - val_loss: 8.3313 - val_accuracy: 0.2792\n",
      "Epoch 96/100\n",
      "50000/50000 [==============================] - 2s 38us/step - loss: 0.3683 - accuracy: 0.8809 - val_loss: 7.1641 - val_accuracy: 0.2732\n",
      "Epoch 97/100\n",
      "50000/50000 [==============================] - 2s 37us/step - loss: 0.1943 - accuracy: 0.9361 - val_loss: 7.7157 - val_accuracy: 0.2792\n",
      "Epoch 98/100\n",
      "50000/50000 [==============================] - 2s 37us/step - loss: 0.0548 - accuracy: 0.9860 - val_loss: 7.9431 - val_accuracy: 0.2853 - accuracy: 0.98\n",
      "Epoch 99/100\n",
      "50000/50000 [==============================] - 2s 38us/step - loss: 0.0467 - accuracy: 0.9881 - val_loss: 8.1418 - val_accuracy: 0.2824\n",
      "Epoch 100/100\n",
      "50000/50000 [==============================] - 2s 38us/step - loss: 0.0434 - accuracy: 0.9892 - val_loss: 8.0242 - val_accuracy: 0.2839\n"
     ]
    },
    {
     "data": {
      "text/plain": [
       "<keras.callbacks.callbacks.History at 0x21daaa24630>"
      ]
     },
     "execution_count": 9,
     "metadata": {},
     "output_type": "execute_result"
    }
   ],
   "source": [
    "model.fit(x_train, y_train, \n",
    "          epochs=EPOCHS, \n",
    "          batch_size=BATCH_SIZE, \n",
    "          validation_data=(x_test, y_test), \n",
    "          shuffle=True)"
   ]
  },
  {
   "cell_type": "code",
   "execution_count": 11,
   "metadata": {},
   "outputs": [
    {
     "data": {
      "image/png": "[encoded data removed]",
      "text/plain": [
       "<Figure size 432x288 with 1 Axes>"
      ]
     },
     "metadata": {
      "needs_background": "light"
     },
     "output_type": "display_data"
    },
    {
     "data": {
      "image/png": "[encoded data removed]",
      "text/plain": [
       "<Figure size 432x288 with 1 Axes>"
      ]
     },
     "metadata": {
      "needs_background": "light"
     },
     "output_type": "display_data"
    }
   ],
   "source": [
    "import matplotlib.pyplot as plt\n",
    "\n",
    "\n",
    "train_loss = model.history.history[\"loss\"]\n",
    "valid_loss = model.history.history[\"val_loss\"]\n",
    "\n",
    "train_acc = model.history.history[\"accuracy\"]\n",
    "valid_acc = model.history.history[\"val_accuracy\"]\n",
    "\n",
    "plt.plot(range(len(train_loss)), train_loss, label=\"train loss\")\n",
    "plt.plot(range(len(valid_loss)), valid_loss, label=\"valid loss\")\n",
    "plt.legend()\n",
    "plt.title(\"Loss\")\n",
    "plt.show()\n",
    "\n",
    "plt.plot(range(len(train_acc)), train_acc, label=\"train accuracy\")\n",
    "plt.plot(range(len(valid_acc)), valid_acc, label=\"valid accuracy\")\n",
    "plt.legend()\n",
    "plt.title(\"Accuracy\")\n",
    "plt.show()\n"
   ]
  }
 ],
 "metadata": {
  "kernelspec": {
   "display_name": "Python 3",
   "language": "python",
   "name": "python3"
  },
  "language_info": {
   "codemirror_mode": {
    "name": "ipython",
    "version": 3
   },
   "file_extension": ".py",
   "mimetype": "text/x-python",
   "name": "python",
   "nbconvert_exporter": "python",
   "pygments_lexer": "ipython3",
   "version": "3.7.3"
  }
 },
 "nbformat": 4,
 "nbformat_minor": 2
}
