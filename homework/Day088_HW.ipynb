{
 "cells": [
  {
   "cell_type": "markdown",
   "metadata": {},
   "source": [
    "## Work\n",
    "1. 請嘗試寫一個 callback 用來記錄各類別在訓練過程中，對驗證集的 True Positive 與 True Negative"
   ]
  },
  {
   "cell_type": "code",
   "execution_count": 1,
   "metadata": {},
   "outputs": [
    {
     "name": "stderr",
     "output_type": "stream",
     "text": [
      "Using TensorFlow backend.\n"
     ]
    },
    {
     "data": {
      "text/plain": [
       "<Response [200]>"
      ]
     },
     "execution_count": 1,
     "metadata": {},
     "output_type": "execute_result"
    }
   ],
   "source": [
    "import os\n",
    "import keras"
   ]
  },
  {
   "cell_type": "code",
   "execution_count": 2,
   "metadata": {},
   "outputs": [],
   "source": [
    "train, test = keras.datasets.cifar10.load_data()"
   ]
  },
  {
   "cell_type": "code",
   "execution_count": 3,
   "metadata": {},
   "outputs": [],
   "source": [
    "## 資料前處理\n",
    "def preproc_x(x, flatten=True):\n",
    "    x = x / 255.\n",
    "    if flatten:\n",
    "        x = x.reshape((len(x), -1))\n",
    "    return x\n",
    "\n",
    "def preproc_y(y, num_classes=10):\n",
    "    if y.shape[-1] == 1:\n",
    "        y = keras.utils.to_categorical(y, num_classes)\n",
    "    return y    "
   ]
  },
  {
   "cell_type": "code",
   "execution_count": 4,
   "metadata": {},
   "outputs": [],
   "source": [
    "x_train, y_train = train\n",
    "x_test, y_test = test\n",
    "\n",
    "# Preproc the inputs\n",
    "x_train = preproc_x(x_train)\n",
    "x_test = preproc_x(x_test)\n",
    "\n",
    "# Preprc the outputs\n",
    "y_train = preproc_y(y_train)\n",
    "y_test = preproc_y(y_test)"
   ]
  },
  {
   "cell_type": "code",
   "execution_count": 5,
   "metadata": {},
   "outputs": [],
   "source": [
    "\n",
    "from keras.layers import BatchNormalization\n",
    "\n",
    "\"\"\"\n",
    "建立神經網路，並加入 BN layer\n",
    "\"\"\"\n",
    "def build_mlp(input_shape, output_units=10, num_neurons=[512, 256, 128]):\n",
    "    \n",
    "    \n",
    "    input_layer = keras.layers.Input(input_shape)\n",
    "    \n",
    "    \n",
    "    for i, n_units in enumerate(num_neurons):\n",
    "        if i == 0:\n",
    "            x = keras.layers.Dense(units=n_units, \n",
    "                                   activation=\"relu\", \n",
    "                                   name=\"hidden_layer\"+str(i+1))(input_layer)\n",
    "            x = BatchNormalization()(x)\n",
    "        else:\n",
    "            x = keras.layers.Dense(units=n_units, \n",
    "                                   activation=\"relu\", \n",
    "                                   name=\"hidden_layer\"+str(i+1))(x)\n",
    "            x = BatchNormalization()(x)\n",
    "    \n",
    "    \n",
    "    out = keras.layers.Dense(units=output_units, activation=\"softmax\", name=\"output\")(x)\n",
    "    \n",
    "    model = keras.models.Model(inputs=[input_layer], outputs=[out])\n",
    "    return model"
   ]
  },
  {
   "cell_type": "code",
   "execution_count": 6,
   "metadata": {},
   "outputs": [],
   "source": [
    "## 超參數設定\n",
    "LEARNING_RATE = 1e-3\n",
    "EPOCHS = 25\n",
    "BATCH_SIZE = 1024\n",
    "MOMENTUM = 0.95"
   ]
  },
  {
   "cell_type": "code",
   "execution_count": 8,
   "metadata": {},
   "outputs": [
    {
     "name": "stdout",
     "output_type": "stream",
     "text": [
      "Model: \"model_2\"\n",
      "_________________________________________________________________\n",
      "Layer (type)                 Output Shape              Param #   \n",
      "=================================================================\n",
      "input_2 (InputLayer)         (None, 3072)              0         \n",
      "_________________________________________________________________\n",
      "hidden_layer1 (Dense)        (None, 512)               1573376   \n",
      "_________________________________________________________________\n",
      "batch_normalization_4 (Batch (None, 512)               2048      \n",
      "_________________________________________________________________\n",
      "hidden_layer2 (Dense)        (None, 256)               131328    \n",
      "_________________________________________________________________\n",
      "batch_normalization_5 (Batch (None, 256)               1024      \n",
      "_________________________________________________________________\n",
      "hidden_layer3 (Dense)        (None, 128)               32896     \n",
      "_________________________________________________________________\n",
      "batch_normalization_6 (Batch (None, 128)               512       \n",
      "_________________________________________________________________\n",
      "output (Dense)               (None, 10)                1290      \n",
      "=================================================================\n",
      "Total params: 1,742,474\n",
      "Trainable params: 1,740,682\n",
      "Non-trainable params: 1,792\n",
      "_________________________________________________________________\n",
      "Train on 50000 samples, validate on 10000 samples\n",
      "Epoch 1/25\n",
      "50000/50000 [==============================] - 2s 35us/step - loss: 2.1961 - accuracy: 0.2715 - val_loss: 2.1284 - val_accuracy: 0.2020\n",
      "Epoch 2/25\n",
      "50000/50000 [==============================] - 1s 28us/step - loss: 1.7346 - accuracy: 0.3971 - val_loss: 1.9597 - val_accuracy: 0.2907\n",
      "Epoch 3/25\n",
      "50000/50000 [==============================] - 1s 28us/step - loss: 1.6073 - accuracy: 0.4384 - val_loss: 1.8257 - val_accuracy: 0.3587\n",
      "Epoch 4/25\n",
      "50000/50000 [==============================] - 1s 28us/step - loss: 1.5330 - accuracy: 0.4627 - val_loss: 1.7049 - val_accuracy: 0.4006\n",
      "Epoch 5/25\n",
      "50000/50000 [==============================] - 1s 28us/step - loss: 1.4768 - accuracy: 0.4837 - val_loss: 1.6515 - val_accuracy: 0.4138\n",
      "Epoch 6/25\n",
      "50000/50000 [==============================] - 1s 29us/step - loss: 1.4323 - accuracy: 0.5000 - val_loss: 1.5835 - val_accuracy: 0.4373\n",
      "Epoch 7/25\n",
      "50000/50000 [==============================] - 1s 28us/step - loss: 1.3927 - accuracy: 0.5145 - val_loss: 1.5533 - val_accuracy: 0.4446\n",
      "Epoch 8/25\n",
      "50000/50000 [==============================] - 1s 28us/step - loss: 1.3565 - accuracy: 0.5281 - val_loss: 1.5205 - val_accuracy: 0.4586\n",
      "Epoch 9/25\n",
      "50000/50000 [==============================] - 1s 28us/step - loss: 1.3244 - accuracy: 0.5418 - val_loss: 1.5031 - val_accuracy: 0.4596\n",
      "Epoch 10/25\n",
      "50000/50000 [==============================] - 1s 28us/step - loss: 1.2934 - accuracy: 0.5527 - val_loss: 1.4852 - val_accuracy: 0.4689\n",
      "Epoch 11/25\n",
      "50000/50000 [==============================] - 1s 28us/step - loss: 1.2643 - accuracy: 0.5627 - val_loss: 1.4840 - val_accuracy: 0.4715\n",
      "Epoch 12/25\n",
      "50000/50000 [==============================] - 1s 28us/step - loss: 1.2378 - accuracy: 0.5728 - val_loss: 1.4677 - val_accuracy: 0.4779\n",
      "Epoch 13/25\n",
      "50000/50000 [==============================] - 1s 28us/step - loss: 1.2112 - accuracy: 0.5843 - val_loss: 1.4688 - val_accuracy: 0.4782\n",
      "Epoch 14/25\n",
      "50000/50000 [==============================] - 1s 28us/step - loss: 1.1861 - accuracy: 0.5909 - val_loss: 1.4677 - val_accuracy: 0.4812\n",
      "Epoch 15/25\n",
      "50000/50000 [==============================] - 1s 28us/step - loss: 1.1608 - accuracy: 0.6035 - val_loss: 1.4506 - val_accuracy: 0.4878\n",
      "Epoch 16/25\n",
      "50000/50000 [==============================] - 1s 28us/step - loss: 1.1361 - accuracy: 0.6110 - val_loss: 1.4451 - val_accuracy: 0.4892\n",
      "Epoch 17/25\n",
      "50000/50000 [==============================] - 1s 28us/step - loss: 1.1132 - accuracy: 0.6191 - val_loss: 1.4456 - val_accuracy: 0.4889\n",
      "Epoch 18/25\n",
      "50000/50000 [==============================] - 1s 28us/step - loss: 1.0895 - accuracy: 0.6293 - val_loss: 1.4537 - val_accuracy: 0.4893\n",
      "Epoch 19/25\n",
      "50000/50000 [==============================] - 1s 28us/step - loss: 1.0678 - accuracy: 0.6367 - val_loss: 1.4505 - val_accuracy: 0.4932\n",
      "Epoch 20/25\n",
      "50000/50000 [==============================] - 1s 28us/step - loss: 1.0461 - accuracy: 0.6457 - val_loss: 1.4520 - val_accuracy: 0.4912\n",
      "Epoch 21/25\n",
      "50000/50000 [==============================] - 1s 28us/step - loss: 1.0245 - accuracy: 0.6536 - val_loss: 1.4544 - val_accuracy: 0.4932\n",
      "Epoch 22/25\n",
      "50000/50000 [==============================] - 1s 29us/step - loss: 1.0039 - accuracy: 0.6621 - val_loss: 1.4509 - val_accuracy: 0.4898\n",
      "Epoch 23/25\n",
      "50000/50000 [==============================] - 1s 28us/step - loss: 0.9819 - accuracy: 0.6695 - val_loss: 1.4552 - val_accuracy: 0.4922\n",
      "Epoch 24/25\n",
      "50000/50000 [==============================] - 1s 28us/step - loss: 0.9611 - accuracy: 0.6787 - val_loss: 1.4572 - val_accuracy: 0.4901\n",
      "Epoch 25/25\n",
      "50000/50000 [==============================] - 1s 29us/step - loss: 0.9394 - accuracy: 0.6865 - val_loss: 1.4623 - val_accuracy: 0.4984\n"
     ]
    },
    {
     "data": {
      "image/png": "[encoded data removed]",
      "text/plain": [
       "<Figure size 432x288 with 1 Axes>"
      ]
     },
     "metadata": {
      "needs_background": "light"
     },
     "output_type": "display_data"
    },
    {
     "data": {
      "image/png": "[encoded data removed]",
      "text/plain": [
       "<Figure size 432x288 with 1 Axes>"
      ]
     },
     "metadata": {
      "needs_background": "light"
     },
     "output_type": "display_data"
    },
    {
     "data": {
      "image/png": "[encoded data removed]",
      "text/plain": [
       "<Figure size 432x288 with 1 Axes>"
      ]
     },
     "metadata": {
      "needs_background": "light"
     },
     "output_type": "display_data"
    }
   ],
   "source": [
    "# 載入 Callbacks\n",
    "from keras.callbacks import Callback\n",
    "import numpy as np\n",
    "\n",
    "# Record_fp_tp\n",
    "class Record_tp_tn(Callback):\n",
    "    \"\"\"Code Here\n",
    "    撰寫一個紀錄 ture positive 與 true negative 數量的 callbacks    \n",
    "    \"\"\"\n",
    "    \n",
    "    \n",
    "    def on_train_begin(self, epoch, logs = {}):\n",
    "        logs = logs or {}\n",
    "        # 驗證集的 True Positive 與 True Negative\n",
    "        record_items = [\"val_tp\", \"val_tn\", \"val_fp\", \"val_fn\"]\n",
    "        for i in record_items:\n",
    "            if i not in self.params['metrics']:\n",
    "                self.params['metrics'].append(i)\n",
    "    \n",
    "    def on_epoch_end(self, epoch, logs = {}, thres=0.5):\n",
    "        logs = logs or {}\n",
    "        # Define y_true, y_pred\n",
    "        y_true = self.validation_data[1].argmax(axis = 1)\n",
    "        y_pred = self.model.predict(self.validation_data[0])\n",
    "        y_pred = (y_pred[:, 1] >= thres) * 1\n",
    "        # Calculate True Positive, True Negative\n",
    "        logs[\"val_tp\"] = np.sum(np.logical_and(y_pred == 1, y_true == 1))\n",
    "        logs[\"val_tn\"] = np.sum(np.logical_and(y_pred == 0, y_true == 0))\n",
    "        \n",
    "rec_tptn = Record_tp_tn()\n",
    "# build model\n",
    "model = build_mlp(input_shape=x_train.shape[1:])\n",
    "model.summary()\n",
    "\n",
    "optimizer = keras.optimizers.SGD(lr=LEARNING_RATE, nesterov=True, momentum=MOMENTUM)\n",
    "# compile\n",
    "model.compile(loss=\"categorical_crossentropy\", metrics=[\"accuracy\"], optimizer=optimizer)\n",
    "\n",
    "# fit\n",
    "\"\"\"Code Here\n",
    "將 callbacks 放入模型訓練流程中\n",
    "\"\"\"\n",
    "model.fit(x_train, y_train, \n",
    "          epochs=EPOCHS, \n",
    "          batch_size=BATCH_SIZE, \n",
    "          validation_data=(x_test, y_test), \n",
    "          shuffle=True,\n",
    "          callbacks=[rec_tptn]) # callbacks 紀錄 驗證集的 True Positive 與 True Negative\n",
    "\n",
    "\n",
    "# Collect results\n",
    "train_loss = model.history.history[\"loss\"]\n",
    "valid_loss = model.history.history[\"val_loss\"]\n",
    "train_acc = model.history.history[\"accuracy\"]\n",
    "valid_acc = model.history.history[\"val_accuracy\"]\n",
    "\n",
    "\"\"\"Code Here\n",
    "將 tp/tn 從訓練完的模型中取出\n",
    "\"\"\"\n",
    "valid_tp = model.history.history['val_tp']\n",
    "valid_tn = model.history.history['val_tn']\n",
    "# plot\n",
    "import matplotlib.pyplot as plt\n",
    "%matplotlib inline\n",
    "# plot loss\n",
    "plt.plot(range(len(train_loss)), train_loss, label=\"train loss\")\n",
    "plt.plot(range(len(valid_loss)), valid_loss, label=\"valid loss\")\n",
    "plt.legend()\n",
    "plt.title(\"Loss\")\n",
    "plt.show()\n",
    "# plot acc\n",
    "plt.plot(range(len(train_acc)), train_acc, label=\"train accuracy\")\n",
    "plt.plot(range(len(valid_acc)), valid_acc, label=\"valid accuracy\")\n",
    "plt.legend()\n",
    "plt.title(\"Accuracy\")\n",
    "plt.show()\n",
    "# plot TP, TN\n",
    "plt.plot(range(len(valid_tp)), valid_tp, label=\"valid tp\", color=\"navy\")\n",
    "plt.plot(range(len(valid_tn)), valid_tn, label=\"valid tn\", color=\"red\")\n",
    "plt.legend()\n",
    "plt.title(\"True positives and True Negatives\")\n",
    "plt.show()"
   ]
  }
 ],
 "metadata": {
  "kernelspec": {
   "display_name": "Python 3",
   "language": "python",
   "name": "python3"
  },
  "language_info": {
   "codemirror_mode": {
    "name": "ipython",
    "version": 3
   },
   "file_extension": ".py",
   "mimetype": "text/x-python",
   "name": "python",
   "nbconvert_exporter": "python",
   "pygments_lexer": "ipython3",
   "version": "3.7.3"
  }
 },
 "nbformat": 4,
 "nbformat_minor": 2
}
