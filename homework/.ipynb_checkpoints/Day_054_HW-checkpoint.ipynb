{
 "cells": [
  {
   "cell_type": "markdown",
   "metadata": {},
   "source": [
    "# 作業\n",
    "* 試著想想看, 非監督學習是否有可能使用評價函數 (Metric) 來鑑別好壞呢?  \n",
    "(Hint : 可以分為 \"有目標值\" 與 \"無目標值\" 兩個方向思考)"
   ]
  },
  {
   "cell_type": "markdown",
   "metadata": {
    "collapsed": true
   },
   "source": [
    "與監督模型不同，非監督因為沒有目標值，因此無法使用⽬標值的預測與實際差距，來評估模型的優劣\n",
    "評估⽅式類型\n",
    "\n",
    "1.有⽬標值的分群（資料集有標籤只是先做分群）¶\n",
    "\n",
    "•如果資料有⽬標值，只是先忽略⽬標值做非監督學習，則只要微調後，就可以使預算原本監督的測量函數評估準確度\n",
    "\n",
    "2.無⽬標值的分群（資料集無標籤只好先做分群）\n",
    "\n",
    "•但通常沒有⽬標值/⽬標值非常少才會預測非監督模型，這種情況下，只能使絲網資料本⾝的分佈資訊，來來做模型的評估"
   ]
  }
 ],
 "metadata": {
  "kernelspec": {
   "display_name": "Python 3",
   "language": "python",
   "name": "python3"
  },
  "language_info": {
   "codemirror_mode": {
    "name": "ipython",
    "version": 3
   },
   "file_extension": ".py",
   "mimetype": "text/x-python",
   "name": "python",
   "nbconvert_exporter": "python",
   "pygments_lexer": "ipython3",
   "version": "3.7.0"
  }
 },
 "nbformat": 4,
 "nbformat_minor": 1
}
