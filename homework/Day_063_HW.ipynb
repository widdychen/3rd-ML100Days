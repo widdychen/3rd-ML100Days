{
 "cells": [
  {
   "cell_type": "markdown",
   "metadata": {},
   "source": [
    "# 作業\n",
    "* 在精簡深度學習的方式上 : 卷積類神經 (CNN) 採用像素遠近，而遞歸類神經 (RNN) 採用著則是時間遠近\n",
    "* 那麼，既然有著類似的設計精神，兩者是否有可能互換應用呢?"
   ]
  },
  {
   "cell_type": "markdown",
   "metadata": {
    "collapsed": true
   },
   "source": [
    "1.CNN, RNN 相同點 (1)傳統神經網絡的擴展。 (2)前向計算產生結果，反向計算模型更新。 (3)每層神經網絡橫向可以多個神經元共存,縱向可以有多層神經網絡連接。 2.CNN+RNN組合方式 (1)CNN 特徵提取，用於RNN語句生成圖片標註。 (2)RNN特徵提取用於CNN內容分類影片分類。 (3)CNN特徵提取用於對話問答圖片問答。 3.具體應用 視頻行為識別 ： (1)常用方法總結： RNN用於CNN特征融合 1. CNN 特征提取 2. LSTM判斷 3. 多次識別結果分析。 (2)RNN用於CNN特征篩選＋融合： 1. 並不是所有的視頻 圖像包含確定分類信息 2. RNN用於確定哪些frame 是有用的 3. 對有用的圖像特征 融合。 (3)RNN用於，目標檢測： 1. CNN直接產生目標候選區 2. LSTM對產生候選區融合（相鄰時刻位置近 似） 3. 確定最終的精確位置。"
   ]
  }
 ],
 "metadata": {
  "kernelspec": {
   "display_name": "Python 3",
   "language": "python",
   "name": "python3"
  },
  "language_info": {
   "codemirror_mode": {
    "name": "ipython",
    "version": 3
   },
   "file_extension": ".py",
   "mimetype": "text/x-python",
   "name": "python",
   "nbconvert_exporter": "python",
   "pygments_lexer": "ipython3",
   "version": "3.7.0"
  }
 },
 "nbformat": 4,
 "nbformat_minor": 2
}
